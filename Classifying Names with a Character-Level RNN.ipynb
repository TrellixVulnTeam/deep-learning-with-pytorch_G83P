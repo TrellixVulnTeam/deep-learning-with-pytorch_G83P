{
 "cells": [
  {
   "cell_type": "markdown",
   "metadata": {},
   "source": [
    "from: https://github.com/spro/practical-pytorch/blob/master/char-rnn-classification/char-rnn-classification.ipynb"
   ]
  },
  {
   "cell_type": "code",
   "execution_count": 1,
   "metadata": {
    "collapsed": true
   },
   "outputs": [],
   "source": [
    "import glob"
   ]
  },
  {
   "cell_type": "code",
   "execution_count": 2,
   "metadata": {
    "collapsed": true
   },
   "outputs": [],
   "source": [
    "# make dictionary of lists of names: {language: [... names ...]}"
   ]
  },
  {
   "cell_type": "code",
   "execution_count": 9,
   "metadata": {
    "collapsed": false
   },
   "outputs": [
    {
     "name": "stdout",
     "output_type": "stream",
     "text": [
      "['/Users/kgraham/Downloads/practical-pytorch-master/data/names/Arabic.txt', '/Users/kgraham/Downloads/practical-pytorch-master/data/names/Chinese.txt', '/Users/kgraham/Downloads/practical-pytorch-master/data/names/Czech.txt', '/Users/kgraham/Downloads/practical-pytorch-master/data/names/Dutch.txt', '/Users/kgraham/Downloads/practical-pytorch-master/data/names/English.txt', '/Users/kgraham/Downloads/practical-pytorch-master/data/names/French.txt', '/Users/kgraham/Downloads/practical-pytorch-master/data/names/German.txt', '/Users/kgraham/Downloads/practical-pytorch-master/data/names/Greek.txt', '/Users/kgraham/Downloads/practical-pytorch-master/data/names/Irish.txt', '/Users/kgraham/Downloads/practical-pytorch-master/data/names/Italian.txt', '/Users/kgraham/Downloads/practical-pytorch-master/data/names/Japanese.txt', '/Users/kgraham/Downloads/practical-pytorch-master/data/names/Korean.txt', '/Users/kgraham/Downloads/practical-pytorch-master/data/names/Polish.txt', '/Users/kgraham/Downloads/practical-pytorch-master/data/names/Portuguese.txt', '/Users/kgraham/Downloads/practical-pytorch-master/data/names/Russian.txt', '/Users/kgraham/Downloads/practical-pytorch-master/data/names/Scottish.txt', '/Users/kgraham/Downloads/practical-pytorch-master/data/names/Spanish.txt', '/Users/kgraham/Downloads/practical-pytorch-master/data/names/Vietnamese.txt']\n"
     ]
    }
   ],
   "source": [
    "def find_files(path):\n",
    "    return glob.glob(path)\n",
    "\n",
    "data_glob = '/Users/kgraham/Downloads/practical-pytorch-master/data/names/*.txt'\n",
    "print(find_files(data_glob))"
   ]
  },
  {
   "cell_type": "code",
   "execution_count": 5,
   "metadata": {
    "collapsed": true
   },
   "outputs": [],
   "source": [
    "import unicodedata"
   ]
  },
  {
   "cell_type": "code",
   "execution_count": 8,
   "metadata": {
    "collapsed": true
   },
   "outputs": [],
   "source": [
    "def unicode_to_ascii(s):\n",
    "    return ''.join(\n",
    "        c for c in unicodedata.normalize('NFD', s)\n",
    "        if unicodedata.category(c) != 'Mn'\n",
    "    )"
   ]
  },
  {
   "cell_type": "code",
   "execution_count": 10,
   "metadata": {
    "collapsed": true
   },
   "outputs": [],
   "source": [
    "# language to name dictionary\n",
    "category_to_names = {}\n",
    "categories = []\n",
    "\n",
    "def read_lines(filename):\n",
    "    lines = open(filename).read().strip().split('\\n')\n",
    "    return [unicode_to_ascii(line) for line in lines]\n",
    "\n",
    "for filename in find_files(data_glob):\n",
    "    category = filename.split('/')[-1].split('.')[0]\n",
    "    categories.append(category)\n",
    "    \n",
    "    names = read_lines(filename)\n",
    "    category_to_names[category] = names\n",
    "    \n",
    "num_categories = len(categories)"
   ]
  },
  {
   "cell_type": "code",
   "execution_count": 11,
   "metadata": {
    "collapsed": false
   },
   "outputs": [
    {
     "name": "stdout",
     "output_type": "stream",
     "text": [
      "['Abbas', 'Abbey']\n"
     ]
    }
   ],
   "source": [
    "print(category_to_names['English'][:2])"
   ]
  },
  {
   "cell_type": "markdown",
   "metadata": {},
   "source": [
    "## Names to Tensors: one-hot encoding\n",
    "\n",
    "A letter will be represented by a vector. The vector will have `N` dimensions, where `N` is the number of letters in the alphabet that makes up the names. In the \"one-hot\" encoding, only one element of the vector for a given letter will be 1, the rest will be zero. E.g. the letter `c` has the vector `<0 0 1 0 0 ...>`.\n",
    "\n",
    "A word is then represented by the one-hot encodings for its letters. This gives a 2D matrix, of dimension word length by alphabet size. We will be training the neural net one word at a time. PyTorch assumes everything is in mini-batches, so we'll turn the 2D matrix into a tensor by adding one extra dimension. To be specific, a given letter will be a `1 x N` tensor, instead of just a vector."
   ]
  },
  {
   "cell_type": "code",
   "execution_count": 12,
   "metadata": {
    "collapsed": false
   },
   "outputs": [],
   "source": [
    "import torch\n",
    "import string"
   ]
  },
  {
   "cell_type": "code",
   "execution_count": 20,
   "metadata": {
    "collapsed": false
   },
   "outputs": [],
   "source": [
    "alphabet = string.ascii_letters + \" .,;'\"\n",
    "# includes capital letters\n",
    "alphabet_size = len(alphabet)\n",
    "\n",
    "# get index of each letter in the alphabet\n",
    "def letter_to_index(letter):\n",
    "    return alphabet.find(letter)\n",
    "\n",
    "# letter_to_index(\"a\") = 0\n",
    "\n",
    "# for example, get the one-hot encoding for a letter\n",
    "def letter_to_tensor(letter):\n",
    "    t = torch.zeros(1, alphabet_size)\n",
    "    t[0][letter_to_index(letter)] = 1\n",
    "    return t\n",
    "\n",
    "def name_to_tensor(name):\n",
    "    # one row for each letter, a single column, then the one-hot elements extend into the plane\n",
    "    name_tensor = torch.zeros(len(name), 1, alphabet_size)\n",
    "    for character_index, character in enumerate(name):\n",
    "        name_tensor[character_index][0][letter_to_index(character)] = 1\n",
    "    return name_tensor"
   ]
  },
  {
   "cell_type": "code",
   "execution_count": 21,
   "metadata": {
    "collapsed": false
   },
   "outputs": [
    {
     "data": {
      "text/plain": [
       "\n",
       "\n",
       "Columns 0 to 12 \n",
       "    0     0     1     0     0     0     0     0     0     0     0     0     0\n",
       "\n",
       "Columns 13 to 25 \n",
       "    0     0     0     0     0     0     0     0     0     0     0     0     0\n",
       "\n",
       "Columns 26 to 38 \n",
       "    0     0     0     0     0     0     0     0     0     0     0     0     0\n",
       "\n",
       "Columns 39 to 51 \n",
       "    0     0     0     0     0     0     0     0     0     0     0     0     0\n",
       "\n",
       "Columns 52 to 56 \n",
       "    0     0     0     0     0\n",
       "[torch.FloatTensor of size 1x57]"
      ]
     },
     "execution_count": 21,
     "metadata": {},
     "output_type": "execute_result"
    }
   ],
   "source": [
    "letter_to_tensor(\"c\")"
   ]
  },
  {
   "cell_type": "code",
   "execution_count": 23,
   "metadata": {
    "collapsed": false
   },
   "outputs": [
    {
     "data": {
      "text/plain": [
       "torch.Size([5, 1, 57])"
      ]
     },
     "execution_count": 23,
     "metadata": {},
     "output_type": "execute_result"
    }
   ],
   "source": [
    "name_to_tensor('Jones').size()"
   ]
  },
  {
   "cell_type": "markdown",
   "metadata": {},
   "source": [
    "## The network"
   ]
  },
  {
   "cell_type": "code",
   "execution_count": 24,
   "metadata": {
    "collapsed": true
   },
   "outputs": [],
   "source": [
    "import torch.nn as nn\n",
    "from torch.autograd import Variable"
   ]
  },
  {
   "cell_type": "code",
   "execution_count": 26,
   "metadata": {
    "collapsed": true
   },
   "outputs": [],
   "source": [
    "class CharRNN(nn.Module):\n",
    "    def __init__(self, input_size, hidden_size, output_size):\n",
    "        super(CharRNN, self).__init__()\n",
    "        \n",
    "        self.hidden_size = hidden_size\n",
    "        \n",
    "        self.hidden_layer = nn.Linear(input_size + hidden_size, hidden_size)\n",
    "        self.output_layer = nn.Linear(input_size + hidden_size, output_size)\n",
    "        self.softmax = nn.LogSoftmax()\n",
    "        \n",
    "    def forward(self, input, hidden):\n",
    "        combined = torch.cat((input, hidden), 1)\n",
    "        hidden = self.hidden_layer(combined)\n",
    "        output = self.output_layer(combined)\n",
    "        output = self.softmax(output)\n",
    "        return output, hidden\n",
    "    \n",
    "    # used to initialize previous hidden state\n",
    "    def initHidden(self):\n",
    "        return Variable(torch.zeros(1, self.hidden_size))\n",
    "    \n",
    "num_hidden = 128\n",
    "rnn = CharRNN(alphabet_size, num_hidden, num_categories)"
   ]
  },
  {
   "cell_type": "code",
   "execution_count": 27,
   "metadata": {
    "collapsed": true
   },
   "outputs": [],
   "source": [
    "input = Variable(letter_to_tensor('A'))\n",
    "hidden = Variable(torch.zeros(1, num_hidden))\n",
    "\n",
    "output, next_hidden = rnn(input, hidden)"
   ]
  },
  {
   "cell_type": "code",
   "execution_count": 29,
   "metadata": {
    "collapsed": false
   },
   "outputs": [
    {
     "name": "stdout",
     "output_type": "stream",
     "text": [
      "Variable containing:\n",
      "\n",
      "Columns 0 to 9 \n",
      "-2.8879 -2.9799 -2.8156 -2.9147 -2.8622 -2.9545 -2.9520 -2.7910 -2.9511 -2.8313\n",
      "\n",
      "Columns 10 to 17 \n",
      "-2.9085 -3.0257 -2.8999 -2.9101 -2.8581 -2.7628 -2.8420 -2.9191\n",
      "[torch.FloatTensor of size 1x18]\n",
      "\n"
     ]
    }
   ],
   "source": [
    "# do one word at a time\n",
    "input = Variable(name_to_tensor('Albert'))\n",
    "hidden = Variable(torch.zeros(1, num_hidden))\n",
    "\n",
    "output, next_hidden = rnn(input[0], hidden)\n",
    "print(output)"
   ]
  },
  {
   "cell_type": "markdown",
   "metadata": {},
   "source": [
    "## Training data"
   ]
  },
  {
   "cell_type": "code",
   "execution_count": 39,
   "metadata": {
    "collapsed": false
   },
   "outputs": [
    {
     "data": {
      "text/plain": [
       "(\n",
       "  5.3000\n",
       " [torch.DoubleTensor of size 1], \n",
       "  4\n",
       " [torch.LongTensor of size 1])"
      ]
     },
     "execution_count": 39,
     "metadata": {},
     "output_type": "execute_result"
    }
   ],
   "source": [
    "import numpy as np\n",
    "torch.from_numpy(np.array([1.0,2.0,3.0,4.02,5.3])).topk(1)\n"
   ]
  },
  {
   "cell_type": "code",
   "execution_count": 57,
   "metadata": {
    "collapsed": false
   },
   "outputs": [
    {
     "name": "stdout",
     "output_type": "stream",
     "text": [
      "('Dutch', 3)\n"
     ]
    }
   ],
   "source": [
    "def output_to_category(output):\n",
    "    top_scores, top_index = output.data.topk(1)\n",
    "    index_of_best_category = top_index[0][0]\n",
    "    return categories[index_of_best_category], index_of_best_category\n",
    "\n",
    "print(output_to_category(output))"
   ]
  },
  {
   "cell_type": "code",
   "execution_count": 42,
   "metadata": {
    "collapsed": true
   },
   "outputs": [],
   "source": [
    "from random import randint\n",
    "\n",
    "def get_random_element(vector):\n",
    "    return vector[randint(0, len(vector) - 1)]"
   ]
  },
  {
   "cell_type": "code",
   "execution_count": 43,
   "metadata": {
    "collapsed": true
   },
   "outputs": [],
   "source": [
    "def random_training_pair():\n",
    "    category = get_random_element(categories)\n",
    "    name = get_random_element(category_to_names[category])\n",
    "    category_tensor = Variable(torch.LongTensor([categories.index(category)]))\n",
    "    name_tensor = Variable(name_to_tensor(name))\n",
    "    return category, name, category_tensor, name_tensor"
   ]
  },
  {
   "cell_type": "code",
   "execution_count": 45,
   "metadata": {
    "collapsed": false
   },
   "outputs": [
    {
     "name": "stdout",
     "output_type": "stream",
     "text": [
      "category:  Vietnamese | name:  Lac\n",
      "category:  Czech | name:  Skeril\n",
      "category:  Spanish | name:  Azarola\n",
      "category:  Scottish | name:  Jackson\n",
      "category:  Greek | name:  Letsos\n",
      "category:  Dutch | name:  Snaaijer\n",
      "category:  Arabic | name:  Asfour\n",
      "category:  German | name:  Kruger\n",
      "category:  Korean | name:  Chang\n",
      "category:  Scottish | name:  Gibson\n"
     ]
    }
   ],
   "source": [
    "for i in range(10):\n",
    "    category, name, category_tensor, name_tensor = random_training_pair()\n",
    "    print('category: ', category, '| name: ', name)"
   ]
  },
  {
   "cell_type": "markdown",
   "metadata": {},
   "source": [
    "Is picking training examples at random the best thing to do here? Don't we want to break the dataset up into train and test sets? If it were larger, we could do k-fold cross-validation."
   ]
  },
  {
   "cell_type": "markdown",
   "metadata": {},
   "source": [
    "## Training the neural network"
   ]
  },
  {
   "cell_type": "code",
   "execution_count": 46,
   "metadata": {
    "collapsed": true
   },
   "outputs": [],
   "source": [
    "# loss function here is negative log-liklihood\n",
    "criterion = nn.NLLLoss() "
   ]
  },
  {
   "cell_type": "markdown",
   "metadata": {},
   "source": [
    "Training over mini-batches occurs in a loop with the following steps:\n",
    "1. create input and target tensors\n",
    "- initialize the hidden state to zero\n",
    "- zero out the gradients\n",
    "- read each letter in the name\n",
    "    - keep hidden state for the next letter in the name\n",
    "- compare final output to the target\n",
    "- backprop\n",
    "- return the output and loss"
   ]
  },
  {
   "cell_type": "code",
   "execution_count": 49,
   "metadata": {
    "collapsed": true
   },
   "outputs": [],
   "source": [
    "learning_rate = 0.005\n",
    "\n",
    "# this treats each name as a mini-batch\n",
    "def train(category_tensor, name_tensor):\n",
    "    # name_tensor has dimension (num_letters in name) x 1 x alphabet_size\n",
    "    \n",
    "    # initialize the mini-batch\n",
    "    hidden = rnn.initHidden()\n",
    "    rnn.zero_grad()\n",
    "    \n",
    "    # loop over each letter in the name\n",
    "    num_letters = name_tensor.size()[0]\n",
    "    for i in range(num_letters):\n",
    "        output, hidden = rnn(name_tensor[i], hidden)\n",
    "        \n",
    "    # compute loss and backpropagate\n",
    "    loss = criterion(output, category_tensor)\n",
    "    loss.backward()\n",
    "    \n",
    "    # update parameters' gradients\n",
    "    for p in rnn.parameters():\n",
    "        p.data.add_(-learning_rate, p.grad.data)\n",
    "        \n",
    "    return output, loss.data[0]"
   ]
  },
  {
   "cell_type": "code",
   "execution_count": 52,
   "metadata": {
    "collapsed": false
   },
   "outputs": [
    {
     "name": "stdout",
     "output_type": "stream",
     "text": [
      "5000 5% (0m 5s) 2.4237 Kolen / Dutch 🌟\n",
      "10000 10% (0m 10s) 2.6823 Halabi / Italian 💩 (Arabic)\n",
      "15000 15% (0m 16s) 1.8467 Vargas / Portuguese 🌟\n",
      "20000 20% (0m 22s) 1.9926 Diarmaid / Japanese 💩 (Irish)\n",
      "25000 25% (0m 28s) 1.3129 Awdienko / Russian 🌟\n",
      "30000 30% (0m 34s) 1.6529 Sokoloff / Russian 💩 (Polish)\n",
      "35000 35% (0m 40s) 0.7884 Chai / Chinese 🌟\n",
      "40000 40% (0m 46s) 1.1730 Kwak / Korean 🌟\n",
      "45000 45% (0m 52s) 0.2060 Shalhoub / Arabic 🌟\n",
      "50000 50% (0m 58s) 0.1627 Lawniczak / Polish 🌟\n",
      "55000 55% (1m 4s) 0.8445 Allan / Scottish 🌟\n",
      "60000 60% (1m 10s) 5.8501 Daal / Vietnamese 💩 (Dutch)\n",
      "65000 65% (1m 16s) 0.2567 Ohmiya / Japanese 🌟\n",
      "70000 70% (1m 22s) 0.2369 Toshitala / Japanese 🌟\n",
      "75000 75% (1m 28s) 3.6088 Giles / Portuguese 💩 (French)\n",
      "80000 80% (1m 34s) 0.4989 Mogilnichenko / Russian 🌟\n",
      "85000 85% (1m 40s) 2.2476 Sander / Arabic 💩 (German)\n",
      "90000 90% (1m 46s) 1.8996 Reid / French 💩 (Scottish)\n",
      "95000 95% (1m 52s) 0.5312 Sfakianos / Greek 🌟\n",
      "100000 100% (1m 58s) 2.7687 Vikhert / Dutch 💩 (Russian)\n"
     ]
    }
   ],
   "source": [
    "import time\n",
    "import math\n",
    "\n",
    "num_epochs = 100000\n",
    "print_every = 5000\n",
    "plot_every = 1000\n",
    "\n",
    "rnn = CharRNN(alphabet_size, num_hidden, num_categories)\n",
    "\n",
    "# track loss for plotting\n",
    "current_loss = 0\n",
    "losses = []\n",
    "\n",
    "def time_since(t):\n",
    "    now = time.time()\n",
    "    seconds = now - t\n",
    "    minutes = math.floor(seconds / 60)\n",
    "    seconds -= minutes * 60\n",
    "    return '%dm %ds' % (minutes, seconds)\n",
    "\n",
    "start = time.time()\n",
    "\n",
    "for epoch in range(1, num_epochs + 1):\n",
    "    category, name, category_tensor, name_tensor = random_training_pair()\n",
    "    output, loss = train(category_tensor, name_tensor)\n",
    "    current_loss += loss\n",
    "    \n",
    "    # print progress\n",
    "    if epoch % print_every == 0:\n",
    "        prediction, prediction_index = output_to_category(output)\n",
    "        correct = '🌟' if prediction == category else '💩 (%s)' % category\n",
    "        print('%d %d%% (%s) %.4f %s / %s %s' % (epoch, epoch / num_epochs * 100, time_since(start), loss, name, prediction, correct))\n",
    "        \n",
    "    # store average losses\n",
    "    if epoch % plot_every == 0:\n",
    "        losses.append(current_loss / plot_every)\n",
    "        current_loss = 0"
   ]
  },
  {
   "cell_type": "markdown",
   "metadata": {},
   "source": [
    "## Plotting the results"
   ]
  },
  {
   "cell_type": "code",
   "execution_count": 54,
   "metadata": {
    "collapsed": false
   },
   "outputs": [
    {
     "data": {
      "text/plain": [
       "[<matplotlib.lines.Line2D at 0x1108a65f8>]"
      ]
     },
     "execution_count": 54,
     "metadata": {},
     "output_type": "execute_result"
    },
    {
     "data": {
      "image/png": "[encoded data removed]",
      "text/plain": [
       "<matplotlib.figure.Figure at 0x11072c128>"
      ]
     },
     "metadata": {},
     "output_type": "display_data"
    }
   ],
   "source": [
    "import matplotlib.pyplot as plt\n",
    "import matplotlib.ticker as ticker\n",
    "%matplotlib inline\n",
    "\n",
    "plt.figure()\n",
    "plt.plot(losses)"
   ]
  },
  {
   "cell_type": "markdown",
   "metadata": {},
   "source": [
    "## Evaluating the results\n",
    "\n",
    "Create a confusion matrix showing for each actual language (rows), which language the network predicts (columns). The predictions can be obtained by predicting for each name. This is the same loop as the training, except no backprop or loss functions. The predictions are made with the trained network. Ideally, the names used for training and the names used for predictions should be non-overlapping sets."
   ]
  },
  {
   "cell_type": "code",
   "execution_count": 56,
   "metadata": {
    "collapsed": false
   },
   "outputs": [
    {
     "data": {
      "image/png": "[encoded data removed]",
      "text/plain": [
       "<matplotlib.figure.Figure at 0x1114817b8>"
      ]
     },
     "metadata": {},
     "output_type": "display_data"
    }
   ],
   "source": [
    "# there are about 20,000 names in the dataset, so we will look at half of them for the eval.\n",
    "\n",
    "def predict(name_tensor):\n",
    "    hidden = rnn.initHidden()\n",
    "    \n",
    "    for i in range(name_tensor.size()[0]):\n",
    "        output, hidden = rnn(name_tensor[i], hidden)\n",
    "        \n",
    "    return output\n",
    "\n",
    "# generate confusion matrix\n",
    "def generate_confusion_matrix(num_examples):\n",
    "    confusion = torch.zeros(num_categories, num_categories)\n",
    "    \n",
    "    for i in range(num_examples):\n",
    "        category, name, category_tensor, name_tensor = random_training_pair()\n",
    "        output = predict(name_tensor)\n",
    "        predicted_category, predicted_index = output_to_category(output)\n",
    "        true_index = categories.index(category)\n",
    "        confusion[true_index][predicted_index] += 1\n",
    "        \n",
    "    return confusion\n",
    "    \n",
    "def normalize_rows(confusion):\n",
    "    for i in range(num_categories):\n",
    "        confusion[i] = confusion[i] / confusion[i].sum()\n",
    "    \n",
    "    return confusion\n",
    "\n",
    "confusion = normalize_rows(generate_confusion_matrix(10000))\n",
    "\n",
    "# setup plot\n",
    "fig = plt.figure()\n",
    "ax = fig.add_subplot(111)\n",
    "cax = ax.matshow(confusion.numpy())\n",
    "fig.colorbar(cax)\n",
    "\n",
    "# Set up axes\n",
    "ax.set_xticklabels([''] + categories, rotation=90)\n",
    "ax.set_yticklabels([''] + categories)\n",
    "\n",
    "# Force label at every tick\n",
    "ax.xaxis.set_major_locator(ticker.MultipleLocator(1))\n",
    "ax.yaxis.set_major_locator(ticker.MultipleLocator(1))\n",
    "\n",
    "plt.show()"
   ]
  },
  {
   "cell_type": "markdown",
   "metadata": {},
   "source": [
    "The model is good with Greek and pretty bad with English. It thinks Korean is Chinese and Vietnamese is Chinese."
   ]
  },
  {
   "cell_type": "markdown",
   "metadata": {},
   "source": [
    "# Testing the model on entirely new data\n",
    "\n",
    "Now, we can give it other names and see how it does. "
   ]
  },
  {
   "cell_type": "code",
   "execution_count": 61,
   "metadata": {
    "collapsed": true
   },
   "outputs": [],
   "source": [
    "def predict_top_3(name):\n",
    "    print('\\n', name)\n",
    "    output = predict(Variable(name_to_tensor(name)))\n",
    "    \n",
    "    # get top 3 predictions\n",
    "    top_scores, top_category_indices = output.data.topk(3, 1)\n",
    "    \n",
    "    predictions = []\n",
    "    for i in range(3):\n",
    "        score = top_scores[0][i]\n",
    "        category_index = top_category_indices[0][i]\n",
    "        print('\\t(%.2f) %s' % (score, categories[category_index]))\n",
    "        predictions.append([score, categories[category_index]])\n",
    "        \n",
    "#     print(predictions)"
   ]
  },
  {
   "cell_type": "code",
   "execution_count": 65,
   "metadata": {
    "collapsed": false
   },
   "outputs": [
    {
     "name": "stdout",
     "output_type": "stream",
     "text": [
      "\n",
      " Graham\n",
      "\t(-1.20) Arabic\n",
      "\t(-1.45) Irish\n",
      "\t(-1.71) Scottish\n",
      "\n",
      " Irueste\n",
      "\t(-0.98) Scottish\n",
      "\t(-1.96) Greek\n",
      "\t(-2.15) French\n",
      "\n",
      " Hamilton\n",
      "\t(-0.70) Greek\n",
      "\t(-1.15) Russian\n",
      "\t(-2.85) French\n"
     ]
    }
   ],
   "source": [
    "predict_top_3('Graham')\n",
    "predict_top_3('Irueste')\n",
    "predict_top_3('Hamilton')"
   ]
  },
  {
   "cell_type": "code",
   "execution_count": 66,
   "metadata": {
    "collapsed": false
   },
   "outputs": [
    {
     "name": "stdout",
     "output_type": "stream",
     "text": [
      "\n",
      " Lopez\n",
      "\t(-1.04) Spanish\n",
      "\t(-1.81) Czech\n",
      "\t(-1.96) Dutch\n",
      "\n",
      " Goldsmith\n",
      "\t(-1.09) Russian\n",
      "\t(-1.39) Scottish\n",
      "\t(-2.44) English\n",
      "\n",
      " Putin\n",
      "\t(-1.51) Russian\n",
      "\t(-2.03) French\n",
      "\t(-2.07) English\n",
      "\n",
      " Carpenter\n",
      "\t(-0.99) Dutch\n",
      "\t(-1.63) French\n",
      "\t(-1.98) English\n"
     ]
    }
   ],
   "source": [
    "predict_top_3('Lopez')\n",
    "predict_top_3('Goldsmith')\n",
    "predict_top_3('Putin')\n",
    "predict_top_3('Carpenter')"
   ]
  },
  {
   "cell_type": "code",
   "execution_count": null,
   "metadata": {
    "collapsed": true
   },
   "outputs": [],
   "source": []
  }
 ],
 "metadata": {
  "kernelspec": {
   "display_name": "Python [conda root]",
   "language": "python",
   "name": "conda-root-py"
  },
  "language_info": {
   "codemirror_mode": {
    "name": "ipython",
    "version": 3
   },
   "file_extension": ".py",
   "mimetype": "text/x-python",
   "name": "python",
   "nbconvert_exporter": "python",
   "pygments_lexer": "ipython3",
   "version": "3.5.2"
  }
 },
 "nbformat": 4,
 "nbformat_minor": 1
}
